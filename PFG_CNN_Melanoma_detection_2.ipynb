{
  "nbformat": 4,
  "nbformat_minor": 0,
  "metadata": {
    "colab": {
      "provenance": [],
      "machine_shape": "hm"
    },
    "kernelspec": {
      "name": "python3",
      "display_name": "Python 3"
    },
    "language_info": {
      "name": "python"
    },
    "accelerator": "GPU",
    "gpuClass": "standard"
  },
  "cells": [
    {
      "cell_type": "markdown",
      "source": [
        "# Melanoma detection in dermatoscopic images using contextual information and Convolutional Neural Networks.\n",
        "By Brenda Farinha Fernandes\n",
        "\n",
        "November 2022"
      ],
      "metadata": {
        "id": "UAioD90XhM__"
      }
    },
    {
      "cell_type": "markdown",
      "source": [
        "## Setup"
      ],
      "metadata": {
        "id": "jsDdSko0DGUu"
      }
    },
    {
      "cell_type": "markdown",
      "source": [
        "Required libraries"
      ],
      "metadata": {
        "id": "xx72Q9IADH1l"
      }
    },
    {
      "cell_type": "code",
      "source": [
        "from google.colab import drive\n",
        "drive.mount('/content/drive', force_remount=True)\n",
        "\n",
        "import zipfile\n",
        "import pandas as pd\n",
        "import numpy as np\n",
        "\n",
        "from sklearn.preprocessing import OneHotEncoder\n",
        "from sklearn.preprocessing import StandardScaler\n",
        "from sklearn.model_selection import train_test_split \n",
        "from matplotlib import pyplot as plt\n",
        "\n",
        "import tensorflow as tf\n",
        "print('Version of Tensorflow used : ', tf.__version__)"
      ],
      "metadata": {
        "colab": {
          "base_uri": "https://localhost:8080/"
        },
        "id": "Vz8FpjDZDJlH",
        "outputId": "95827587-68ef-4dad-bcc3-c5c628659fe6"
      },
      "execution_count": 1,
      "outputs": [
        {
          "output_type": "stream",
          "name": "stdout",
          "text": [
            "Mounted at /content/drive\n",
            "Version of Tensorflow used :  2.11.0\n"
          ]
        }
      ]
    },
    {
      "cell_type": "markdown",
      "source": [
        "GPU Information"
      ],
      "metadata": {
        "id": "q1y4cYxo-kLN"
      }
    },
    {
      "cell_type": "code",
      "source": [
        "gpu_info = !nvidia-smi\n",
        "gpu_info = '\\n'.join(gpu_info)\n",
        "if gpu_info.find('failed') >= 0:\n",
        "  print('Not connected to a GPU')\n",
        "else:\n",
        "  print(gpu_info)\n",
        "  print(\"Num GPUs Available: \", len(tf.config.experimental.list_physical_devices('GPU')))\n",
        "\n",
        "strategy = tf.distribute.get_strategy()\n",
        "REPLICAS = strategy.num_replicas_in_sync\n",
        "print('Number of replicas:', REPLICAS)"
      ],
      "metadata": {
        "colab": {
          "base_uri": "https://localhost:8080/"
        },
        "id": "hsz0NJ1C-nHR",
        "outputId": "1a828931-0eb9-4793-986f-ec19b38ff0f8"
      },
      "execution_count": 2,
      "outputs": [
        {
          "output_type": "stream",
          "name": "stdout",
          "text": [
            "Mon Feb 27 14:58:56 2023       \n",
            "+-----------------------------------------------------------------------------+\n",
            "| NVIDIA-SMI 525.85.12    Driver Version: 525.85.12    CUDA Version: 12.0     |\n",
            "|-------------------------------+----------------------+----------------------+\n",
            "| GPU  Name        Persistence-M| Bus-Id        Disp.A | Volatile Uncorr. ECC |\n",
            "| Fan  Temp  Perf  Pwr:Usage/Cap|         Memory-Usage | GPU-Util  Compute M. |\n",
            "|                               |                      |               MIG M. |\n",
            "|===============================+======================+======================|\n",
            "|   0  Tesla T4            Off  | 00000000:00:04.0 Off |                    0 |\n",
            "| N/A   69C    P0    27W /  70W |      0MiB / 15360MiB |      0%      Default |\n",
            "|                               |                      |                  N/A |\n",
            "+-------------------------------+----------------------+----------------------+\n",
            "                                                                               \n",
            "+-----------------------------------------------------------------------------+\n",
            "| Processes:                                                                  |\n",
            "|  GPU   GI   CI        PID   Type   Process name                  GPU Memory |\n",
            "|        ID   ID                                                   Usage      |\n",
            "|=============================================================================|\n",
            "|  No running processes found                                                 |\n",
            "+-----------------------------------------------------------------------------+\n",
            "Num GPUs Available:  1\n",
            "Number of replicas: 1\n"
          ]
        }
      ]
    },
    {
      "cell_type": "markdown",
      "source": [
        "RAM Information"
      ],
      "metadata": {
        "id": "be7OX1vn-6HD"
      }
    },
    {
      "cell_type": "code",
      "source": [
        "from psutil import virtual_memory\n",
        "ram_gb = virtual_memory().total / 1e9\n",
        "print('Your runtime has {:.1f} gigabytes of available RAM\\n'.format(ram_gb))\n",
        "\n",
        "if ram_gb < 20:\n",
        "  print('Not using a high-RAM runtime')\n",
        "else:\n",
        "  print('You are using a high-RAM runtime!')"
      ],
      "metadata": {
        "colab": {
          "base_uri": "https://localhost:8080/"
        },
        "id": "N1iGHAAb-3Pi",
        "outputId": "f4e7dfab-e128-435e-f40a-d46156636ffe"
      },
      "execution_count": 3,
      "outputs": [
        {
          "output_type": "stream",
          "name": "stdout",
          "text": [
            "Your runtime has 27.3 gigabytes of available RAM\n",
            "\n",
            "You are using a high-RAM runtime!\n"
          ]
        }
      ]
    },
    {
      "cell_type": "markdown",
      "source": [
        "Global variables"
      ],
      "metadata": {
        "id": "m--m_NGiFlNl"
      }
    },
    {
      "cell_type": "code",
      "source": [
        "PATH_dataset_images_zip = '/content/drive/MyDrive/PFG_MELANOMA/ISIC_2020_Training_JPEG.zip'\n",
        "PATH_dataset_images = '/content/drive/MyDrive/PFG_MELANOMA/images'\n",
        "PATH_dataset_csv = '/content/drive/MyDrive/PFG_MELANOMA/ISIC_2020_Training_GroundTruth.csv'"
      ],
      "metadata": {
        "id": "evelS1nqFm3a"
      },
      "execution_count": 4,
      "outputs": []
    },
    {
      "cell_type": "code",
      "source": [
        "IMG_HEIGHT = 124\n",
        "IMG_WIDTH = 124"
      ],
      "metadata": {
        "id": "nq1dFg8WQnwt"
      },
      "execution_count": 5,
      "outputs": []
    },
    {
      "cell_type": "code",
      "source": [
        "AUTOTUNE = tf.data.experimental.AUTOTUNE\n",
        "BATCH_SIZE = 64"
      ],
      "metadata": {
        "id": "MipXk6x2HwSu"
      },
      "execution_count": 6,
      "outputs": []
    },
    {
      "cell_type": "markdown",
      "source": [
        "## Data preproccesing"
      ],
      "metadata": {
        "id": "7Fd-xHZVDMaH"
      }
    },
    {
      "cell_type": "markdown",
      "source": [
        "Read [SIIM-ISIC 2020 Melanoma Classification Challenge Dataset](https://doi.org/10.34970/2020-ds01) "
      ],
      "metadata": {
        "id": "5c0DD27QFKLl"
      }
    },
    {
      "cell_type": "code",
      "source": [
        "def read_dataset(dataset_unzip = False): \n",
        "\n",
        "  # Unzip images from \"/content/drive/MyDrive/PFG_MELANOMA/ISIC_2020_Training_JPEG.zip\"\n",
        "  if dataset_unzip: \n",
        "    zipfile.ZipFile(PATH_dataset_images_zip).extractall(PATH_dataset_images)\n",
        "  \n",
        "  df = pd.DataFrame(pd.read_csv(f'{PATH_dataset_csv}'))\n",
        "\n",
        "  df['sex'] = df['sex'].fillna('unknown')\n",
        "  df['age_approx'] = df['age_approx'].fillna('unknown')\n",
        "  df['anatom_site_general_challenge'] = df['anatom_site_general_challenge'].fillna('unknown')\n",
        "\n",
        "  df = df.drop(columns=['diagnosis', 'benign_malignant'])\n",
        "\n",
        "  train_df, val_df = train_test_split(df, random_state=42, shuffle=True, stratify=df['target'])\n",
        "\n",
        "  return train_df, val_df"
      ],
      "metadata": {
        "id": "Co9nC28YDVV5"
      },
      "execution_count": 7,
      "outputs": []
    },
    {
      "cell_type": "code",
      "source": [
        "def decode_image(image_path, metadata, label):\n",
        "\n",
        "  image = tf.io.read_file(image_path)\n",
        "  image = tf.image.decode_jpeg(image, channels=3)\n",
        "  image = tf.image.resize(image, [IMG_HEIGHT, IMG_WIDTH])\n",
        "  image = tf.cast(image, tf.float32) / 255.0\n",
        "\n",
        "  return image, metadata, label"
      ],
      "metadata": {
        "id": "QN4nf-BZHVyz"
      },
      "execution_count": 8,
      "outputs": []
    },
    {
      "cell_type": "code",
      "source": [
        "def image_augmentation(image, metadata, label): \n",
        "\n",
        "  image = tf.image.random_flip_left_right(image)\n",
        "  image = tf.image.random_flip_up_down(image)\n",
        "  image = tf.image.random_hue(image, 0.025)\n",
        "  image = tf.image.random_saturation(image, 0.6, 1.4)\n",
        "  image = tf.image.random_contrast(image, 0.7, 1.4)\n",
        "  image = tf.image.random_brightness(image, 0.1)\n",
        "\n",
        "  return (image, metadata), label"
      ],
      "metadata": {
        "id": "PfVvDW8V1zO7"
      },
      "execution_count": 9,
      "outputs": []
    },
    {
      "cell_type": "markdown",
      "source": [
        "Load dataset: \n",
        "* `map()`: This transformation applies map_func to each element of this dataset, and returns a new dataset containing the transformed elements\n",
        "\n",
        "* `repeat()`: Repeats this dataset so each original value is seen count times.\n",
        "\n",
        "* `shuffle()`: Randomly shuffles the elements of this dataset.\n",
        "\n",
        "* `batch()`: Combines consecutive elements of this dataset into batches.\n",
        "\n",
        "* `prefetch()` : Most dataset input pipelines should end with a call to prefetch. This allows later elements to be prepared while the current element is being processed. prefetch( ) doesn’t allow CPU stand idle. When model is training prefetch continue prepare data while GPU is busy.\n",
        "\n",
        "* `cache()` : The first time the dataset is iterated over, its elements will be cached either in the specified file or in memory. Subsequent iterations will use the cached data. When caching to a file, the cached data will persist across runs. Even the first iteration through the data will read from the cache file.\n",
        "\n"
      ],
      "metadata": {
        "id": "EBaLtJhoGiry"
      }
    },
    {
      "cell_type": "code",
      "source": [
        "def load_dataset(df, deterministic = False, augment = False, cache = False): \n",
        "\n",
        "  labels = df[\"target\"].values\n",
        "  images = f'{PATH_dataset_images}/' + df[\"image_name\"].values +\".jpg\"\n",
        "\n",
        "  metadata_df = df.drop(columns=['image_name', 'patient_id', 'target'])\n",
        "  metadata_df = pd.get_dummies(metadata_df, columns = [\"sex\", \"age_approx\", \"anatom_site_general_challenge\"])\n",
        "  metadata_df.shape\n",
        "\n",
        "  metadata = metadata_df.to_numpy()\n",
        "\n",
        "  ds = tf.data.Dataset.from_tensor_slices((images, metadata, labels))\n",
        "\n",
        "  if not deterministic:\n",
        "    options = tf.data.Options()\n",
        "    options.experimental_deterministic = False\n",
        "    ds = ds.with_options(options)\n",
        "\n",
        "  ds = ds.map(decode_image, num_parallel_calls=AUTOTUNE)\n",
        "\n",
        "  if augment: \n",
        "    ds = ds.map(image_augmentation, num_parallel_calls=AUTOTUNE)\n",
        "    ds = ds.repeat()\n",
        "    ds.shuffle(buffer_size = 2048)\n",
        "  \n",
        "  ds = ds.batch(BATCH_SIZE)\n",
        "\n",
        "  if cache:\n",
        "    ds = ds.cache()\n",
        "\n",
        "  ds = ds.prefetch(AUTOTUNE)\n",
        "\n",
        "  return ds"
      ],
      "metadata": {
        "id": "PyU5x5mzGlSQ"
      },
      "execution_count": 10,
      "outputs": []
    },
    {
      "cell_type": "markdown",
      "source": [
        "Show images"
      ],
      "metadata": {
        "id": "S4LyLsUCWppO"
      }
    },
    {
      "cell_type": "code",
      "source": [
        "def show_images(ds):\n",
        "\n",
        "  row, col = 3,5\n",
        "  fig = plt.figure(figsize=(2*col, 2*row))\n",
        "  for _row in range(row):\n",
        "    for _col in range(col):\n",
        "      plt.subplot(row, col, _row*col + _col +1)\n",
        "      for images, labels in ds.take(1):\n",
        "        img = images[0].numpy()\n",
        "        plt.imshow(img)\n",
        "        plt.title(labels[0].numpy())\n",
        "        plt.axis(False)\n",
        "  plt.show()"
      ],
      "metadata": {
        "id": "ICQM1Bl9Wrtz"
      },
      "execution_count": 11,
      "outputs": []
    },
    {
      "cell_type": "markdown",
      "source": [
        "## Model"
      ],
      "metadata": {
        "id": "1KPxcGnYGUSe"
      }
    },
    {
      "cell_type": "code",
      "source": [
        "train_df, val_df = read_dataset(dataset_unzip = False)"
      ],
      "metadata": {
        "id": "MuncGR37GYPv"
      },
      "execution_count": 12,
      "outputs": []
    },
    {
      "cell_type": "code",
      "source": [
        "metadata_df = train_df.drop(columns=['image_name', 'patient_id', 'target'])\n",
        "metadata_df = pd.get_dummies(metadata_df, columns = [\"sex\", \"age_approx\", \"anatom_site_general_challenge\"])\n",
        "metadata_df.shape"
      ],
      "metadata": {
        "colab": {
          "base_uri": "https://localhost:8080/"
        },
        "id": "s3SGaUvWTo67",
        "outputId": "355809f6-3b4c-4d90-a543-bc4ca7c36418"
      },
      "execution_count": 13,
      "outputs": [
        {
          "output_type": "execute_result",
          "data": {
            "text/plain": [
              "(24843, 29)"
            ]
          },
          "metadata": {},
          "execution_count": 13
        }
      ]
    },
    {
      "cell_type": "code",
      "source": [
        "metadata_df.head()"
      ],
      "metadata": {
        "colab": {
          "base_uri": "https://localhost:8080/",
          "height": 317
        },
        "id": "r7sglGKCTtQz",
        "outputId": "8984d73a-a0fc-493a-fe7b-d73caf7357a1"
      },
      "execution_count": 14,
      "outputs": [
        {
          "output_type": "execute_result",
          "data": {
            "text/plain": [
              "       sex_female  sex_male  sex_unknown  age_approx_0.0  age_approx_10.0  \\\n",
              "7560            0         1            0               0                0   \n",
              "29505           0         1            0               0                0   \n",
              "11069           0         1            0               0                0   \n",
              "13032           1         0            0               0                0   \n",
              "9952            0         1            0               0                0   \n",
              "\n",
              "       age_approx_15.0  age_approx_20.0  age_approx_25.0  age_approx_30.0  \\\n",
              "7560                 0                0                0                0   \n",
              "29505                0                0                0                0   \n",
              "11069                0                0                0                0   \n",
              "13032                0                0                0                0   \n",
              "9952                 0                0                0                0   \n",
              "\n",
              "       age_approx_35.0  ...  age_approx_85.0  age_approx_90.0  \\\n",
              "7560                 0  ...                0                0   \n",
              "29505                0  ...                0                0   \n",
              "11069                0  ...                0                0   \n",
              "13032                0  ...                0                0   \n",
              "9952                 0  ...                0                0   \n",
              "\n",
              "       age_approx_unknown  anatom_site_general_challenge_head/neck  \\\n",
              "7560                    0                                        0   \n",
              "29505                   0                                        0   \n",
              "11069                   0                                        0   \n",
              "13032                   0                                        0   \n",
              "9952                    0                                        0   \n",
              "\n",
              "       anatom_site_general_challenge_lower extremity  \\\n",
              "7560                                               0   \n",
              "29505                                              0   \n",
              "11069                                              0   \n",
              "13032                                              1   \n",
              "9952                                               0   \n",
              "\n",
              "       anatom_site_general_challenge_oral/genital  \\\n",
              "7560                                            0   \n",
              "29505                                           0   \n",
              "11069                                           0   \n",
              "13032                                           0   \n",
              "9952                                            0   \n",
              "\n",
              "       anatom_site_general_challenge_palms/soles  \\\n",
              "7560                                           0   \n",
              "29505                                          0   \n",
              "11069                                          0   \n",
              "13032                                          0   \n",
              "9952                                           0   \n",
              "\n",
              "       anatom_site_general_challenge_torso  \\\n",
              "7560                                     0   \n",
              "29505                                    0   \n",
              "11069                                    1   \n",
              "13032                                    0   \n",
              "9952                                     0   \n",
              "\n",
              "       anatom_site_general_challenge_unknown  \\\n",
              "7560                                       0   \n",
              "29505                                      1   \n",
              "11069                                      0   \n",
              "13032                                      0   \n",
              "9952                                       1   \n",
              "\n",
              "       anatom_site_general_challenge_upper extremity  \n",
              "7560                                               1  \n",
              "29505                                              0  \n",
              "11069                                              0  \n",
              "13032                                              0  \n",
              "9952                                               0  \n",
              "\n",
              "[5 rows x 29 columns]"
            ],
            "text/html": [
              "\n",
              "  <div id=\"df-c260a555-8625-4ed9-9ae1-7296e3b12356\">\n",
              "    <div class=\"colab-df-container\">\n",
              "      <div>\n",
              "<style scoped>\n",
              "    .dataframe tbody tr th:only-of-type {\n",
              "        vertical-align: middle;\n",
              "    }\n",
              "\n",
              "    .dataframe tbody tr th {\n",
              "        vertical-align: top;\n",
              "    }\n",
              "\n",
              "    .dataframe thead th {\n",
              "        text-align: right;\n",
              "    }\n",
              "</style>\n",
              "<table border=\"1\" class=\"dataframe\">\n",
              "  <thead>\n",
              "    <tr style=\"text-align: right;\">\n",
              "      <th></th>\n",
              "      <th>sex_female</th>\n",
              "      <th>sex_male</th>\n",
              "      <th>sex_unknown</th>\n",
              "      <th>age_approx_0.0</th>\n",
              "      <th>age_approx_10.0</th>\n",
              "      <th>age_approx_15.0</th>\n",
              "      <th>age_approx_20.0</th>\n",
              "      <th>age_approx_25.0</th>\n",
              "      <th>age_approx_30.0</th>\n",
              "      <th>age_approx_35.0</th>\n",
              "      <th>...</th>\n",
              "      <th>age_approx_85.0</th>\n",
              "      <th>age_approx_90.0</th>\n",
              "      <th>age_approx_unknown</th>\n",
              "      <th>anatom_site_general_challenge_head/neck</th>\n",
              "      <th>anatom_site_general_challenge_lower extremity</th>\n",
              "      <th>anatom_site_general_challenge_oral/genital</th>\n",
              "      <th>anatom_site_general_challenge_palms/soles</th>\n",
              "      <th>anatom_site_general_challenge_torso</th>\n",
              "      <th>anatom_site_general_challenge_unknown</th>\n",
              "      <th>anatom_site_general_challenge_upper extremity</th>\n",
              "    </tr>\n",
              "  </thead>\n",
              "  <tbody>\n",
              "    <tr>\n",
              "      <th>7560</th>\n",
              "      <td>0</td>\n",
              "      <td>1</td>\n",
              "      <td>0</td>\n",
              "      <td>0</td>\n",
              "      <td>0</td>\n",
              "      <td>0</td>\n",
              "      <td>0</td>\n",
              "      <td>0</td>\n",
              "      <td>0</td>\n",
              "      <td>0</td>\n",
              "      <td>...</td>\n",
              "      <td>0</td>\n",
              "      <td>0</td>\n",
              "      <td>0</td>\n",
              "      <td>0</td>\n",
              "      <td>0</td>\n",
              "      <td>0</td>\n",
              "      <td>0</td>\n",
              "      <td>0</td>\n",
              "      <td>0</td>\n",
              "      <td>1</td>\n",
              "    </tr>\n",
              "    <tr>\n",
              "      <th>29505</th>\n",
              "      <td>0</td>\n",
              "      <td>1</td>\n",
              "      <td>0</td>\n",
              "      <td>0</td>\n",
              "      <td>0</td>\n",
              "      <td>0</td>\n",
              "      <td>0</td>\n",
              "      <td>0</td>\n",
              "      <td>0</td>\n",
              "      <td>0</td>\n",
              "      <td>...</td>\n",
              "      <td>0</td>\n",
              "      <td>0</td>\n",
              "      <td>0</td>\n",
              "      <td>0</td>\n",
              "      <td>0</td>\n",
              "      <td>0</td>\n",
              "      <td>0</td>\n",
              "      <td>0</td>\n",
              "      <td>1</td>\n",
              "      <td>0</td>\n",
              "    </tr>\n",
              "    <tr>\n",
              "      <th>11069</th>\n",
              "      <td>0</td>\n",
              "      <td>1</td>\n",
              "      <td>0</td>\n",
              "      <td>0</td>\n",
              "      <td>0</td>\n",
              "      <td>0</td>\n",
              "      <td>0</td>\n",
              "      <td>0</td>\n",
              "      <td>0</td>\n",
              "      <td>0</td>\n",
              "      <td>...</td>\n",
              "      <td>0</td>\n",
              "      <td>0</td>\n",
              "      <td>0</td>\n",
              "      <td>0</td>\n",
              "      <td>0</td>\n",
              "      <td>0</td>\n",
              "      <td>0</td>\n",
              "      <td>1</td>\n",
              "      <td>0</td>\n",
              "      <td>0</td>\n",
              "    </tr>\n",
              "    <tr>\n",
              "      <th>13032</th>\n",
              "      <td>1</td>\n",
              "      <td>0</td>\n",
              "      <td>0</td>\n",
              "      <td>0</td>\n",
              "      <td>0</td>\n",
              "      <td>0</td>\n",
              "      <td>0</td>\n",
              "      <td>0</td>\n",
              "      <td>0</td>\n",
              "      <td>0</td>\n",
              "      <td>...</td>\n",
              "      <td>0</td>\n",
              "      <td>0</td>\n",
              "      <td>0</td>\n",
              "      <td>0</td>\n",
              "      <td>1</td>\n",
              "      <td>0</td>\n",
              "      <td>0</td>\n",
              "      <td>0</td>\n",
              "      <td>0</td>\n",
              "      <td>0</td>\n",
              "    </tr>\n",
              "    <tr>\n",
              "      <th>9952</th>\n",
              "      <td>0</td>\n",
              "      <td>1</td>\n",
              "      <td>0</td>\n",
              "      <td>0</td>\n",
              "      <td>0</td>\n",
              "      <td>0</td>\n",
              "      <td>0</td>\n",
              "      <td>0</td>\n",
              "      <td>0</td>\n",
              "      <td>0</td>\n",
              "      <td>...</td>\n",
              "      <td>0</td>\n",
              "      <td>0</td>\n",
              "      <td>0</td>\n",
              "      <td>0</td>\n",
              "      <td>0</td>\n",
              "      <td>0</td>\n",
              "      <td>0</td>\n",
              "      <td>0</td>\n",
              "      <td>1</td>\n",
              "      <td>0</td>\n",
              "    </tr>\n",
              "  </tbody>\n",
              "</table>\n",
              "<p>5 rows × 29 columns</p>\n",
              "</div>\n",
              "      <button class=\"colab-df-convert\" onclick=\"convertToInteractive('df-c260a555-8625-4ed9-9ae1-7296e3b12356')\"\n",
              "              title=\"Convert this dataframe to an interactive table.\"\n",
              "              style=\"display:none;\">\n",
              "        \n",
              "  <svg xmlns=\"http://www.w3.org/2000/svg\" height=\"24px\"viewBox=\"0 0 24 24\"\n",
              "       width=\"24px\">\n",
              "    <path d=\"M0 0h24v24H0V0z\" fill=\"none\"/>\n",
              "    <path d=\"M18.56 5.44l.94 2.06.94-2.06 2.06-.94-2.06-.94-.94-2.06-.94 2.06-2.06.94zm-11 1L8.5 8.5l.94-2.06 2.06-.94-2.06-.94L8.5 2.5l-.94 2.06-2.06.94zm10 10l.94 2.06.94-2.06 2.06-.94-2.06-.94-.94-2.06-.94 2.06-2.06.94z\"/><path d=\"M17.41 7.96l-1.37-1.37c-.4-.4-.92-.59-1.43-.59-.52 0-1.04.2-1.43.59L10.3 9.45l-7.72 7.72c-.78.78-.78 2.05 0 2.83L4 21.41c.39.39.9.59 1.41.59.51 0 1.02-.2 1.41-.59l7.78-7.78 2.81-2.81c.8-.78.8-2.07 0-2.86zM5.41 20L4 18.59l7.72-7.72 1.47 1.35L5.41 20z\"/>\n",
              "  </svg>\n",
              "      </button>\n",
              "      \n",
              "  <style>\n",
              "    .colab-df-container {\n",
              "      display:flex;\n",
              "      flex-wrap:wrap;\n",
              "      gap: 12px;\n",
              "    }\n",
              "\n",
              "    .colab-df-convert {\n",
              "      background-color: #E8F0FE;\n",
              "      border: none;\n",
              "      border-radius: 50%;\n",
              "      cursor: pointer;\n",
              "      display: none;\n",
              "      fill: #1967D2;\n",
              "      height: 32px;\n",
              "      padding: 0 0 0 0;\n",
              "      width: 32px;\n",
              "    }\n",
              "\n",
              "    .colab-df-convert:hover {\n",
              "      background-color: #E2EBFA;\n",
              "      box-shadow: 0px 1px 2px rgba(60, 64, 67, 0.3), 0px 1px 3px 1px rgba(60, 64, 67, 0.15);\n",
              "      fill: #174EA6;\n",
              "    }\n",
              "\n",
              "    [theme=dark] .colab-df-convert {\n",
              "      background-color: #3B4455;\n",
              "      fill: #D2E3FC;\n",
              "    }\n",
              "\n",
              "    [theme=dark] .colab-df-convert:hover {\n",
              "      background-color: #434B5C;\n",
              "      box-shadow: 0px 1px 3px 1px rgba(0, 0, 0, 0.15);\n",
              "      filter: drop-shadow(0px 1px 2px rgba(0, 0, 0, 0.3));\n",
              "      fill: #FFFFFF;\n",
              "    }\n",
              "  </style>\n",
              "\n",
              "      <script>\n",
              "        const buttonEl =\n",
              "          document.querySelector('#df-c260a555-8625-4ed9-9ae1-7296e3b12356 button.colab-df-convert');\n",
              "        buttonEl.style.display =\n",
              "          google.colab.kernel.accessAllowed ? 'block' : 'none';\n",
              "\n",
              "        async function convertToInteractive(key) {\n",
              "          const element = document.querySelector('#df-c260a555-8625-4ed9-9ae1-7296e3b12356');\n",
              "          const dataTable =\n",
              "            await google.colab.kernel.invokeFunction('convertToInteractive',\n",
              "                                                     [key], {});\n",
              "          if (!dataTable) return;\n",
              "\n",
              "          const docLinkHtml = 'Like what you see? Visit the ' +\n",
              "            '<a target=\"_blank\" href=https://colab.research.google.com/notebooks/data_table.ipynb>data table notebook</a>'\n",
              "            + ' to learn more about interactive tables.';\n",
              "          element.innerHTML = '';\n",
              "          dataTable['output_type'] = 'display_data';\n",
              "          await google.colab.output.renderOutput(dataTable, element);\n",
              "          const docLink = document.createElement('div');\n",
              "          docLink.innerHTML = docLinkHtml;\n",
              "          element.appendChild(docLink);\n",
              "        }\n",
              "      </script>\n",
              "    </div>\n",
              "  </div>\n",
              "  "
            ]
          },
          "metadata": {},
          "execution_count": 14
        }
      ]
    },
    {
      "cell_type": "markdown",
      "source": [
        "Distribution dataset"
      ],
      "metadata": {
        "id": "R2k_06A5VOFL"
      }
    },
    {
      "cell_type": "code",
      "source": [
        "train_total = len(train_df)\n",
        "train_malignant = len(train_df[train_df[\"target\"] == 1])\n",
        "train_benign = len(train_df[train_df[\"target\"] == 0])\n",
        "\n",
        "val_total = len(val_df)\n",
        "val_malignant = len(val_df[val_df[\"target\"] == 1])\n",
        "val_benign = len(val_df[val_df[\"target\"] == 0])\n",
        "\n",
        "print(\"Number of training files =\", train_total)\n",
        "print(\"\\tNumber of malignant training files =\", train_malignant)\n",
        "print(\"\\tNumber of benign training files =\", train_benign)\n",
        "\n",
        "print(\"\\nNumber of validation files =\", val_total)\n",
        "print(\"\\tNumber of malignant validation files =\", val_malignant)\n",
        "print(\"\\tNumber of benign validation files =\", val_benign)"
      ],
      "metadata": {
        "colab": {
          "base_uri": "https://localhost:8080/"
        },
        "id": "oh2HcGvnVU3E",
        "outputId": "4e044d5d-a0ac-49f3-deed-2a66d3f949bc"
      },
      "execution_count": 15,
      "outputs": [
        {
          "output_type": "stream",
          "name": "stdout",
          "text": [
            "Number of training files = 24843\n",
            "\tNumber of malignant training files = 437\n",
            "\tNumber of benign training files = 24406\n",
            "\n",
            "Number of validation files = 8282\n",
            "\tNumber of malignant validation files = 146\n",
            "\tNumber of benign validation files = 8136\n"
          ]
        }
      ]
    },
    {
      "cell_type": "code",
      "source": [
        "STEPS_PER_EPOCH_TRAIN = train_total // BATCH_SIZE\n",
        "STEPS_PER_EPOCH_VAL = val_total // BATCH_SIZE\n",
        "\n",
        "EPOCHS = 15\n",
        "print(\"Number of steps per epoch in training:\", STEPS_PER_EPOCH_TRAIN)\n",
        "print(\"Number of steps per epoch in validation:\", STEPS_PER_EPOCH_VAL)"
      ],
      "metadata": {
        "id": "hHLpBkEVaM3U",
        "colab": {
          "base_uri": "https://localhost:8080/"
        },
        "outputId": "bb341cd6-86d7-4794-bf79-8c13021dc1a6"
      },
      "execution_count": 16,
      "outputs": [
        {
          "output_type": "stream",
          "name": "stdout",
          "text": [
            "Number of steps per epoch in training: 388\n",
            "Number of steps per epoch in validation: 129\n"
          ]
        }
      ]
    },
    {
      "cell_type": "code",
      "source": [
        "train_ds = load_dataset(train_df, deterministic = False, augment = True, cache = False)\n",
        "val_ds = load_dataset(val_df, deterministic = False, augment = False, cache = True)"
      ],
      "metadata": {
        "id": "ilOtoNErSGU4"
      },
      "execution_count": 17,
      "outputs": []
    },
    {
      "cell_type": "markdown",
      "source": [
        "Class weights in training dataset"
      ],
      "metadata": {
        "id": "YEA4VMOqXHV3"
      }
    },
    {
      "cell_type": "code",
      "source": [
        "weight_malignant = (train_total/train_malignant)/2.0\n",
        "weight_benign = (train_total/train_benign)/2.0\n",
        "\n",
        "class_weight = {0: weight_benign, 1: weight_malignant}\n",
        "\n",
        "print(\"Weight for benign cases = \", class_weight[0])\n",
        "print(\"Weight for malignant cases = \", class_weight[1])"
      ],
      "metadata": {
        "colab": {
          "base_uri": "https://localhost:8080/"
        },
        "id": "028X5dXuXMmq",
        "outputId": "d473469c-cc0d-4996-d3da-775176eddec8"
      },
      "execution_count": 18,
      "outputs": [
        {
          "output_type": "stream",
          "name": "stdout",
          "text": [
            "Weight for benign cases =  0.5089527165451119\n",
            "Weight for malignant cases =  28.424485125858123\n"
          ]
        }
      ]
    },
    {
      "cell_type": "markdown",
      "source": [
        "Defining Callbacks\n",
        "\n",
        "*   `EarlyStopping`: Stop training when a monitored metric has stopped improving.\n",
        "*   `ModelCheckpoint`: Callback to save the Keras model or model weights at some frequency.\n",
        "\n"
      ],
      "metadata": {
        "id": "4XB8Fgy8XTar"
      }
    },
    {
      "cell_type": "code",
      "source": [
        "callback_early_stopping = tf.keras.callbacks.EarlyStopping(\n",
        "    patience = 15, \n",
        "    verbose = 0, \n",
        "    restore_best_weights = True)\n",
        "\n",
        "callbacks_lr_reduce = tf.keras.callbacks.ReduceLROnPlateau(\n",
        "    monitor = \"val_auc\", \n",
        "    factor = 0.1, \n",
        "    patience = 10,\n",
        "    verbose = 0, \n",
        "    min_lr = 1e-6)\n",
        "\n",
        "callback_checkpoint = tf.keras.callbacks.ModelCheckpoint(\n",
        "    \"melanoma_detection_weights.h5\",\n",
        "    save_weights_only=True,\n",
        "    monitor='val_auc',\n",
        "    mode='max',\n",
        "    save_best_only=True)"
      ],
      "metadata": {
        "id": "vDxAnjifXVkh"
      },
      "execution_count": 19,
      "outputs": []
    },
    {
      "cell_type": "code",
      "source": [
        "with strategy.scope():\n",
        "\n",
        "  images = tf.keras.layers.Input(shape=(IMG_HEIGHT, IMG_WIDTH, 3), name=\"image\")\n",
        "  dummy = tf.keras.layers.Lambda(lambda x:x)(images)\n",
        "\n",
        "  encoder = tf.keras.applications.EfficientNetB6(\n",
        "      input_shape = (IMG_HEIGHT, IMG_WIDTH, 3),\n",
        "      include_top = False,\n",
        "      weights = 'imagenet'\n",
        "  )(dummy)\n",
        "  encoder.trainable = False\n",
        "\n",
        "  x = tf.keras.layers.GlobalAveragePooling2D()(encoder)\n",
        "  #outputs = tf.keras.layers.Dense(1, activation=\"sigmoid\")(x)\n",
        "\n",
        "  metadata = tf.keras.layers.Input(shape=(29,), name=\"metadata\")\n",
        "  y = tf.keras.layers.Dense(100, activation=\"relu\")(metadata)\n",
        "  y = tf.keras.layers.Dense(3, activation=\"relu\")(y)\n",
        "\n",
        "  z = tf.keras.layers.concatenate([x, y])\n",
        "  outputs = tf.keras.layers.Dense(1, activation=\"sigmoid\")(z)\n",
        "\n",
        "  model = tf.keras.Model(inputs=[images, metadata], outputs=outputs, name='aNetwork')\n",
        "  model.summary()\n",
        "\n",
        "  model.compile(\n",
        "      optimizer = tf.keras.optimizers.Adam(learning_rate=1e-3),\n",
        "      loss = tf.keras.losses.BinaryCrossentropy(label_smoothing = 0.05),\n",
        "      metrics = [tf.keras.metrics.AUC(name='auc')]\n",
        "  )"
      ],
      "metadata": {
        "colab": {
          "base_uri": "https://localhost:8080/"
        },
        "id": "4Pux74kaJj9U",
        "outputId": "16d3f3e9-efd0-4dda-bf91-7c3f16c9d121"
      },
      "execution_count": 26,
      "outputs": [
        {
          "output_type": "stream",
          "name": "stdout",
          "text": [
            "Model: \"aNetwork\"\n",
            "__________________________________________________________________________________________________\n",
            " Layer (type)                   Output Shape         Param #     Connected to                     \n",
            "==================================================================================================\n",
            " image (InputLayer)             [(None, 124, 124, 3  0           []                               \n",
            "                                )]                                                                \n",
            "                                                                                                  \n",
            " lambda_2 (Lambda)              (None, 124, 124, 3)  0           ['image[0][0]']                  \n",
            "                                                                                                  \n",
            " metadata (InputLayer)          [(None, 29)]         0           []                               \n",
            "                                                                                                  \n",
            " efficientnetb6 (Functional)    (None, 4, 4, 2304)   40960143    ['lambda_2[0][0]']               \n",
            "                                                                                                  \n",
            " dense_3 (Dense)                (None, 100)          3000        ['metadata[0][0]']               \n",
            "                                                                                                  \n",
            " global_average_pooling2d_1 (Gl  (None, 2304)        0           ['efficientnetb6[0][0]']         \n",
            " obalAveragePooling2D)                                                                            \n",
            "                                                                                                  \n",
            " dense_4 (Dense)                (None, 3)            303         ['dense_3[0][0]']                \n",
            "                                                                                                  \n",
            " concatenate_1 (Concatenate)    (None, 2307)         0           ['global_average_pooling2d_1[0][0\n",
            "                                                                 ]',                              \n",
            "                                                                  'dense_4[0][0]']                \n",
            "                                                                                                  \n",
            " dense_5 (Dense)                (None, 1)            2308        ['concatenate_1[0][0]']          \n",
            "                                                                                                  \n",
            "==================================================================================================\n",
            "Total params: 40,965,754\n",
            "Trainable params: 40,741,315\n",
            "Non-trainable params: 224,439\n",
            "__________________________________________________________________________________________________\n"
          ]
        }
      ]
    },
    {
      "cell_type": "code",
      "source": [
        "history_B6 = model.fit(\n",
        "    train_ds, \n",
        "    verbose=1, \n",
        "    steps_per_epoch=STEPS_PER_EPOCH_TRAIN, \n",
        "    validation_data = val_ds, validation_steps = STEPS_PER_EPOCH_VAL,\n",
        "    epochs = EPOCHS, \n",
        "    callbacks=[callback_early_stopping, callbacks_lr_reduce, callback_checkpoint],\n",
        "    class_weight = class_weight) "
      ],
      "metadata": {
        "colab": {
          "base_uri": "https://localhost:8080/"
        },
        "id": "K7IQWKwOIV7r",
        "outputId": "ae2289d6-7a73-415f-f7b5-3db399d852ac"
      },
      "execution_count": null,
      "outputs": [
        {
          "output_type": "stream",
          "name": "stdout",
          "text": [
            "Epoch 1/15\n",
            "214/388 [===============>..............] - ETA: 13:05 - loss: 0.6501 - auc: 0.7271"
          ]
        }
      ]
    },
    {
      "cell_type": "code",
      "source": [
        "model.evaluate(val_ds)"
      ],
      "metadata": {
        "id": "K1mEM-nBrVy7"
      },
      "execution_count": null,
      "outputs": []
    }
  ]
}